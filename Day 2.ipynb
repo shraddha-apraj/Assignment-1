{
 "cells": [
  {
   "cell_type": "code",
   "execution_count": 1,
   "id": "c887fc9c",
   "metadata": {},
   "outputs": [
    {
     "data": {
      "text/plain": [
       "4"
      ]
     },
     "execution_count": 1,
     "metadata": {},
     "output_type": "execute_result"
    }
   ],
   "source": [
    "2+2"
   ]
  },
  {
   "cell_type": "code",
   "execution_count": 2,
   "id": "58e545d0",
   "metadata": {},
   "outputs": [
    {
     "data": {
      "text/plain": [
       "1"
      ]
     },
     "execution_count": 2,
     "metadata": {},
     "output_type": "execute_result"
    }
   ],
   "source": [
    "5-4"
   ]
  },
  {
   "cell_type": "code",
   "execution_count": 3,
   "id": "e9acc50b",
   "metadata": {},
   "outputs": [
    {
     "data": {
      "text/plain": [
       "2.5"
      ]
     },
     "execution_count": 3,
     "metadata": {},
     "output_type": "execute_result"
    }
   ],
   "source": [
    "5/2"
   ]
  },
  {
   "cell_type": "code",
   "execution_count": 4,
   "id": "dab94ecf",
   "metadata": {},
   "outputs": [
    {
     "data": {
      "text/plain": [
       "2"
      ]
     },
     "execution_count": 4,
     "metadata": {},
     "output_type": "execute_result"
    }
   ],
   "source": [
    "5//2"
   ]
  },
  {
   "cell_type": "code",
   "execution_count": 5,
   "id": "7c386cb3",
   "metadata": {},
   "outputs": [
    {
     "data": {
      "text/plain": [
       "1"
      ]
     },
     "execution_count": 5,
     "metadata": {},
     "output_type": "execute_result"
    }
   ],
   "source": [
    "7%3"
   ]
  },
  {
   "cell_type": "code",
   "execution_count": 6,
   "id": "8096794d",
   "metadata": {},
   "outputs": [
    {
     "data": {
      "text/plain": [
       "25"
      ]
     },
     "execution_count": 6,
     "metadata": {},
     "output_type": "execute_result"
    }
   ],
   "source": [
    "5*5"
   ]
  },
  {
   "cell_type": "code",
   "execution_count": 7,
   "id": "f988d3e7",
   "metadata": {},
   "outputs": [
    {
     "data": {
      "text/plain": [
       "9.5"
      ]
     },
     "execution_count": 7,
     "metadata": {},
     "output_type": "execute_result"
    }
   ],
   "source": [
    "4+5.5\n"
   ]
  },
  {
   "cell_type": "code",
   "execution_count": 8,
   "id": "6fbd70aa",
   "metadata": {},
   "outputs": [
    {
     "data": {
      "text/plain": [
       "10.0"
      ]
     },
     "execution_count": 8,
     "metadata": {},
     "output_type": "execute_result"
    }
   ],
   "source": [
    "4.5+5.5"
   ]
  },
  {
   "cell_type": "code",
   "execution_count": 9,
   "id": "697f1c9c",
   "metadata": {},
   "outputs": [
    {
     "data": {
      "text/plain": [
       "9.0"
      ]
     },
     "execution_count": 9,
     "metadata": {},
     "output_type": "execute_result"
    }
   ],
   "source": [
    "4.0+5.0"
   ]
  },
  {
   "cell_type": "code",
   "execution_count": 10,
   "id": "b570bc6a",
   "metadata": {},
   "outputs": [
    {
     "data": {
      "text/plain": [
       "2.3999999999999995"
      ]
     },
     "execution_count": 10,
     "metadata": {},
     "output_type": "execute_result"
    }
   ],
   "source": [
    "9.6-7.2"
   ]
  },
  {
   "cell_type": "code",
   "execution_count": 11,
   "id": "848a45fd",
   "metadata": {},
   "outputs": [
    {
     "data": {
      "text/plain": [
       "12.5"
      ]
     },
     "execution_count": 11,
     "metadata": {},
     "output_type": "execute_result"
    }
   ],
   "source": [
    "5*2.5"
   ]
  },
  {
   "cell_type": "code",
   "execution_count": 12,
   "id": "16a91dcb",
   "metadata": {},
   "outputs": [
    {
     "data": {
      "text/plain": [
       "35.0"
      ]
     },
     "execution_count": 12,
     "metadata": {},
     "output_type": "execute_result"
    }
   ],
   "source": [
    "5.0*7"
   ]
  },
  {
   "cell_type": "code",
   "execution_count": 13,
   "id": "6b2455a2",
   "metadata": {},
   "outputs": [
    {
     "data": {
      "text/plain": [
       "1"
      ]
     },
     "execution_count": 13,
     "metadata": {},
     "output_type": "execute_result"
    }
   ],
   "source": [
    "6//4"
   ]
  },
  {
   "cell_type": "code",
   "execution_count": 14,
   "id": "499f6a7c",
   "metadata": {},
   "outputs": [
    {
     "data": {
      "text/plain": [
       "2.0"
      ]
     },
     "execution_count": 14,
     "metadata": {},
     "output_type": "execute_result"
    }
   ],
   "source": [
    "6/3"
   ]
  },
  {
   "cell_type": "code",
   "execution_count": 15,
   "id": "1ae5a16b",
   "metadata": {},
   "outputs": [
    {
     "data": {
      "text/plain": [
       "2.0"
      ]
     },
     "execution_count": 15,
     "metadata": {},
     "output_type": "execute_result"
    }
   ],
   "source": [
    "10/5"
   ]
  },
  {
   "cell_type": "code",
   "execution_count": 16,
   "id": "1318239d",
   "metadata": {},
   "outputs": [
    {
     "data": {
      "text/plain": [
       "8"
      ]
     },
     "execution_count": 16,
     "metadata": {},
     "output_type": "execute_result"
    }
   ],
   "source": [
    "2**3"
   ]
  },
  {
   "cell_type": "code",
   "execution_count": 17,
   "id": "f2232def",
   "metadata": {},
   "outputs": [
    {
     "data": {
      "text/plain": [
       "64"
      ]
     },
     "execution_count": 17,
     "metadata": {},
     "output_type": "execute_result"
    }
   ],
   "source": [
    "4**3"
   ]
  },
  {
   "cell_type": "code",
   "execution_count": 18,
   "id": "cac1062e",
   "metadata": {},
   "outputs": [],
   "source": [
    "#datatypes\n"
   ]
  },
  {
   "cell_type": "code",
   "execution_count": 19,
   "id": "4b42ef1c",
   "metadata": {},
   "outputs": [],
   "source": [
    "age=19"
   ]
  },
  {
   "cell_type": "code",
   "execution_count": 20,
   "id": "41c24dca",
   "metadata": {},
   "outputs": [
    {
     "data": {
      "text/plain": [
       "int"
      ]
     },
     "execution_count": 20,
     "metadata": {},
     "output_type": "execute_result"
    }
   ],
   "source": [
    "type(age)"
   ]
  },
  {
   "cell_type": "code",
   "execution_count": 21,
   "id": "3d253622",
   "metadata": {},
   "outputs": [],
   "source": [
    "marks = 65.9"
   ]
  },
  {
   "cell_type": "code",
   "execution_count": 22,
   "id": "76fdabec",
   "metadata": {},
   "outputs": [
    {
     "data": {
      "text/plain": [
       "float"
      ]
     },
     "execution_count": 22,
     "metadata": {},
     "output_type": "execute_result"
    }
   ],
   "source": [
    "type(marks)"
   ]
  },
  {
   "cell_type": "code",
   "execution_count": 23,
   "id": "ad25b11b",
   "metadata": {},
   "outputs": [],
   "source": [
    "name = \"Lets play\""
   ]
  },
  {
   "cell_type": "code",
   "execution_count": 24,
   "id": "618e46b4",
   "metadata": {},
   "outputs": [
    {
     "data": {
      "text/plain": [
       "str"
      ]
     },
     "execution_count": 24,
     "metadata": {},
     "output_type": "execute_result"
    }
   ],
   "source": [
    "type(name)"
   ]
  },
  {
   "cell_type": "code",
   "execution_count": 25,
   "id": "1e60d9d5",
   "metadata": {},
   "outputs": [],
   "source": [
    "isTrue = True\n",
    "isFalse = False"
   ]
  },
  {
   "cell_type": "code",
   "execution_count": 26,
   "id": "7dff2900",
   "metadata": {},
   "outputs": [
    {
     "data": {
      "text/plain": [
       "bool"
      ]
     },
     "execution_count": 26,
     "metadata": {},
     "output_type": "execute_result"
    }
   ],
   "source": [
    "type(isTrue)"
   ]
  },
  {
   "cell_type": "code",
   "execution_count": 27,
   "id": "4876bc1f",
   "metadata": {},
   "outputs": [
    {
     "data": {
      "text/plain": [
       "bool"
      ]
     },
     "execution_count": 27,
     "metadata": {},
     "output_type": "execute_result"
    }
   ],
   "source": [
    "type(isFalse)"
   ]
  },
  {
   "cell_type": "code",
   "execution_count": 28,
   "id": "1998595d",
   "metadata": {},
   "outputs": [
    {
     "data": {
      "text/plain": [
       "'Lets play'"
      ]
     },
     "execution_count": 28,
     "metadata": {},
     "output_type": "execute_result"
    }
   ],
   "source": [
    "name"
   ]
  },
  {
   "cell_type": "code",
   "execution_count": 29,
   "id": "193774f8",
   "metadata": {},
   "outputs": [],
   "source": [
    "name = 'lets play 1'"
   ]
  },
  {
   "cell_type": "code",
   "execution_count": 30,
   "id": "1fc81aec",
   "metadata": {},
   "outputs": [
    {
     "data": {
      "text/plain": [
       "'lets play 1'"
      ]
     },
     "execution_count": 30,
     "metadata": {},
     "output_type": "execute_result"
    }
   ],
   "source": [
    "name"
   ]
  },
  {
   "cell_type": "code",
   "execution_count": 31,
   "id": "eb654bf2",
   "metadata": {},
   "outputs": [
    {
     "data": {
      "text/plain": [
       "19"
      ]
     },
     "execution_count": 31,
     "metadata": {},
     "output_type": "execute_result"
    }
   ],
   "source": [
    "age"
   ]
  },
  {
   "cell_type": "code",
   "execution_count": 32,
   "id": "742a76b3",
   "metadata": {},
   "outputs": [],
   "source": [
    "age = 25"
   ]
  },
  {
   "cell_type": "code",
   "execution_count": 33,
   "id": "cf2e7901",
   "metadata": {},
   "outputs": [],
   "source": [
    "marks = 89.2"
   ]
  },
  {
   "cell_type": "code",
   "execution_count": 34,
   "id": "6ead9215",
   "metadata": {},
   "outputs": [],
   "source": [
    "#list , #dict , #tuple"
   ]
  },
  {
   "cell_type": "code",
   "execution_count": 35,
   "id": "6e6452bf",
   "metadata": {},
   "outputs": [],
   "source": [
    "items = list()"
   ]
  },
  {
   "cell_type": "code",
   "execution_count": 36,
   "id": "b2f840c5",
   "metadata": {},
   "outputs": [],
   "source": [
    "items = []"
   ]
  },
  {
   "cell_type": "code",
   "execution_count": 37,
   "id": "4c21fa53",
   "metadata": {},
   "outputs": [
    {
     "data": {
      "text/plain": [
       "list"
      ]
     },
     "execution_count": 37,
     "metadata": {},
     "output_type": "execute_result"
    }
   ],
   "source": [
    "type(items)"
   ]
  },
  {
   "cell_type": "code",
   "execution_count": 38,
   "id": "a52f6092",
   "metadata": {},
   "outputs": [
    {
     "data": {
      "text/plain": [
       "[]"
      ]
     },
     "execution_count": 38,
     "metadata": {},
     "output_type": "execute_result"
    }
   ],
   "source": [
    "items"
   ]
  },
  {
   "cell_type": "code",
   "execution_count": 39,
   "id": "74fbf130",
   "metadata": {},
   "outputs": [
    {
     "ename": "AttributeError",
     "evalue": "'list' object has no attribute 'appens'",
     "output_type": "error",
     "traceback": [
      "\u001b[1;31m---------------------------------------------------------------------------\u001b[0m",
      "\u001b[1;31mAttributeError\u001b[0m                            Traceback (most recent call last)",
      "\u001b[1;32m~\\AppData\\Local\\Temp/ipykernel_14736/4103349271.py\u001b[0m in \u001b[0;36m<module>\u001b[1;34m\u001b[0m\n\u001b[1;32m----> 1\u001b[1;33m \u001b[0mitems\u001b[0m\u001b[1;33m.\u001b[0m\u001b[0mappens\u001b[0m\u001b[1;33m(\u001b[0m\u001b[1;36m50\u001b[0m\u001b[1;33m)\u001b[0m\u001b[1;33m\u001b[0m\u001b[1;33m\u001b[0m\u001b[0m\n\u001b[0m",
      "\u001b[1;31mAttributeError\u001b[0m: 'list' object has no attribute 'appens'"
     ]
    }
   ],
   "source": [
    "items.appens(50)"
   ]
  },
  {
   "cell_type": "code",
   "execution_count": 40,
   "id": "14c1eb04",
   "metadata": {},
   "outputs": [],
   "source": [
    "items.append(40)"
   ]
  },
  {
   "cell_type": "code",
   "execution_count": 41,
   "id": "9c679506",
   "metadata": {},
   "outputs": [
    {
     "data": {
      "text/plain": [
       "[40]"
      ]
     },
     "execution_count": 41,
     "metadata": {},
     "output_type": "execute_result"
    }
   ],
   "source": [
    "items"
   ]
  },
  {
   "cell_type": "code",
   "execution_count": 42,
   "id": "a317d778",
   "metadata": {},
   "outputs": [],
   "source": [
    "items.append(20)"
   ]
  },
  {
   "cell_type": "code",
   "execution_count": 43,
   "id": "fbf2ae96",
   "metadata": {},
   "outputs": [
    {
     "data": {
      "text/plain": [
       "[40, 20]"
      ]
     },
     "execution_count": 43,
     "metadata": {},
     "output_type": "execute_result"
    }
   ],
   "source": [
    "items"
   ]
  },
  {
   "cell_type": "code",
   "execution_count": 44,
   "id": "64f11b2d",
   "metadata": {},
   "outputs": [
    {
     "data": {
      "text/plain": [
       "20"
      ]
     },
     "execution_count": 44,
     "metadata": {},
     "output_type": "execute_result"
    }
   ],
   "source": [
    "items.pop()"
   ]
  },
  {
   "cell_type": "code",
   "execution_count": 45,
   "id": "73944966",
   "metadata": {},
   "outputs": [
    {
     "data": {
      "text/plain": [
       "40"
      ]
     },
     "execution_count": 45,
     "metadata": {},
     "output_type": "execute_result"
    }
   ],
   "source": [
    "items.pop()"
   ]
  },
  {
   "cell_type": "code",
   "execution_count": 46,
   "id": "8a40329b",
   "metadata": {},
   "outputs": [],
   "source": [
    "items.insert(0,20)"
   ]
  },
  {
   "cell_type": "code",
   "execution_count": 47,
   "id": "6b5e095d",
   "metadata": {},
   "outputs": [
    {
     "data": {
      "text/plain": [
       "[20]"
      ]
     },
     "execution_count": 47,
     "metadata": {},
     "output_type": "execute_result"
    }
   ],
   "source": [
    "items"
   ]
  },
  {
   "cell_type": "code",
   "execution_count": 48,
   "id": "8b162fec",
   "metadata": {},
   "outputs": [],
   "source": [
    "items.append(58)"
   ]
  },
  {
   "cell_type": "code",
   "execution_count": 49,
   "id": "4671e1a5",
   "metadata": {},
   "outputs": [
    {
     "data": {
      "text/plain": [
       "[20, 58]"
      ]
     },
     "execution_count": 49,
     "metadata": {},
     "output_type": "execute_result"
    }
   ],
   "source": [
    "items"
   ]
  },
  {
   "cell_type": "code",
   "execution_count": 50,
   "id": "f27f1099",
   "metadata": {},
   "outputs": [],
   "source": [
    "items.insert(0,67)"
   ]
  },
  {
   "cell_type": "code",
   "execution_count": 51,
   "id": "e479ee56",
   "metadata": {},
   "outputs": [
    {
     "data": {
      "text/plain": [
       "[67, 20, 58]"
      ]
     },
     "execution_count": 51,
     "metadata": {},
     "output_type": "execute_result"
    }
   ],
   "source": [
    "items"
   ]
  },
  {
   "cell_type": "code",
   "execution_count": 52,
   "id": "e78fb615",
   "metadata": {},
   "outputs": [],
   "source": [
    "items.insert(0,26)"
   ]
  },
  {
   "cell_type": "code",
   "execution_count": 53,
   "id": "5ca9b108",
   "metadata": {},
   "outputs": [
    {
     "data": {
      "text/plain": [
       "[26, 67, 20, 58]"
      ]
     },
     "execution_count": 53,
     "metadata": {},
     "output_type": "execute_result"
    }
   ],
   "source": [
    "items"
   ]
  },
  {
   "cell_type": "code",
   "execution_count": 54,
   "id": "f884d1b3",
   "metadata": {},
   "outputs": [],
   "source": [
    "items.insert(2,55)"
   ]
  },
  {
   "cell_type": "code",
   "execution_count": 55,
   "id": "13aec2fa",
   "metadata": {},
   "outputs": [
    {
     "data": {
      "text/plain": [
       "[26, 67, 55, 20, 58]"
      ]
     },
     "execution_count": 55,
     "metadata": {},
     "output_type": "execute_result"
    }
   ],
   "source": [
    "items"
   ]
  },
  {
   "cell_type": "code",
   "execution_count": 56,
   "id": "99653ffe",
   "metadata": {},
   "outputs": [],
   "source": [
    "items.remove(20)"
   ]
  },
  {
   "cell_type": "code",
   "execution_count": 57,
   "id": "fb308261",
   "metadata": {},
   "outputs": [
    {
     "data": {
      "text/plain": [
       "[26, 67, 55, 58]"
      ]
     },
     "execution_count": 57,
     "metadata": {},
     "output_type": "execute_result"
    }
   ],
   "source": [
    "items"
   ]
  },
  {
   "cell_type": "code",
   "execution_count": 58,
   "id": "d3bb1796",
   "metadata": {},
   "outputs": [],
   "source": [
    "items[2] = 88"
   ]
  },
  {
   "cell_type": "code",
   "execution_count": 59,
   "id": "b011c8ad",
   "metadata": {},
   "outputs": [
    {
     "data": {
      "text/plain": [
       "[26, 67, 88, 58]"
      ]
     },
     "execution_count": 59,
     "metadata": {},
     "output_type": "execute_result"
    }
   ],
   "source": [
    "items"
   ]
  },
  {
   "cell_type": "code",
   "execution_count": 60,
   "id": "3623f5ea",
   "metadata": {},
   "outputs": [],
   "source": [
    "items.append(80)"
   ]
  },
  {
   "cell_type": "code",
   "execution_count": null,
   "id": "22c2ccb9",
   "metadata": {},
   "outputs": [],
   "source": []
  },
  {
   "cell_type": "code",
   "execution_count": 61,
   "id": "f7ec58c8",
   "metadata": {},
   "outputs": [
    {
     "data": {
      "text/plain": [
       "[26, 67, 88, 58, 80]"
      ]
     },
     "execution_count": 61,
     "metadata": {},
     "output_type": "execute_result"
    }
   ],
   "source": [
    "items"
   ]
  },
  {
   "cell_type": "code",
   "execution_count": 62,
   "id": "346a7730",
   "metadata": {},
   "outputs": [],
   "source": [
    "unique_set = set()"
   ]
  },
  {
   "cell_type": "code",
   "execution_count": 63,
   "id": "33cd356a",
   "metadata": {},
   "outputs": [
    {
     "data": {
      "text/plain": [
       "set"
      ]
     },
     "execution_count": 63,
     "metadata": {},
     "output_type": "execute_result"
    }
   ],
   "source": [
    "type(unique_set)"
   ]
  },
  {
   "cell_type": "code",
   "execution_count": 64,
   "id": "ba0eb7b4",
   "metadata": {},
   "outputs": [],
   "source": [
    "unique_set.add(9)"
   ]
  },
  {
   "cell_type": "code",
   "execution_count": 65,
   "id": "34e34922",
   "metadata": {},
   "outputs": [
    {
     "data": {
      "text/plain": [
       "{9}"
      ]
     },
     "execution_count": 65,
     "metadata": {},
     "output_type": "execute_result"
    }
   ],
   "source": [
    "unique_set"
   ]
  },
  {
   "cell_type": "code",
   "execution_count": 66,
   "id": "11993248",
   "metadata": {},
   "outputs": [],
   "source": [
    "unique_set.add(5)"
   ]
  },
  {
   "cell_type": "code",
   "execution_count": 67,
   "id": "a75ed68b",
   "metadata": {},
   "outputs": [
    {
     "data": {
      "text/plain": [
       "{5, 9}"
      ]
     },
     "execution_count": 67,
     "metadata": {},
     "output_type": "execute_result"
    }
   ],
   "source": [
    "unique_set"
   ]
  },
  {
   "cell_type": "code",
   "execution_count": 68,
   "id": "30753d20",
   "metadata": {},
   "outputs": [
    {
     "data": {
      "text/plain": [
       "[26, 67, 88, 58, 80]"
      ]
     },
     "execution_count": 68,
     "metadata": {},
     "output_type": "execute_result"
    }
   ],
   "source": [
    "items"
   ]
  },
  {
   "cell_type": "code",
   "execution_count": 69,
   "id": "bc2f6974",
   "metadata": {},
   "outputs": [
    {
     "data": {
      "text/plain": [
       "{26, 58, 67, 80, 88}"
      ]
     },
     "execution_count": 69,
     "metadata": {},
     "output_type": "execute_result"
    }
   ],
   "source": [
    "set(items)"
   ]
  },
  {
   "cell_type": "code",
   "execution_count": 70,
   "id": "00a515ec",
   "metadata": {},
   "outputs": [
    {
     "data": {
      "text/plain": [
       "9"
      ]
     },
     "execution_count": 70,
     "metadata": {},
     "output_type": "execute_result"
    }
   ],
   "source": [
    "unique_set.pop()"
   ]
  },
  {
   "cell_type": "code",
   "execution_count": 71,
   "id": "56f148c6",
   "metadata": {},
   "outputs": [],
   "source": [
    "unique_set.add(89)"
   ]
  },
  {
   "cell_type": "code",
   "execution_count": 72,
   "id": "9035ed0d",
   "metadata": {},
   "outputs": [],
   "source": [
    "unique_set.remove(89)"
   ]
  },
  {
   "cell_type": "code",
   "execution_count": 73,
   "id": "3d5dbc98",
   "metadata": {},
   "outputs": [
    {
     "data": {
      "text/plain": [
       "{5}"
      ]
     },
     "execution_count": 73,
     "metadata": {},
     "output_type": "execute_result"
    }
   ],
   "source": [
    "unique_set"
   ]
  },
  {
   "cell_type": "code",
   "execution_count": 74,
   "id": "421d4139",
   "metadata": {},
   "outputs": [
    {
     "data": {
      "text/plain": [
       "[26, 67, 88, 58, 80]"
      ]
     },
     "execution_count": 74,
     "metadata": {},
     "output_type": "execute_result"
    }
   ],
   "source": [
    "items"
   ]
  },
  {
   "cell_type": "code",
   "execution_count": 75,
   "id": "c3afaf64",
   "metadata": {},
   "outputs": [
    {
     "data": {
      "text/plain": [
       "1"
      ]
     },
     "execution_count": 75,
     "metadata": {},
     "output_type": "execute_result"
    }
   ],
   "source": [
    "len(unique_set)"
   ]
  },
  {
   "cell_type": "code",
   "execution_count": 76,
   "id": "4f2722b5",
   "metadata": {},
   "outputs": [
    {
     "data": {
      "text/plain": [
       "5"
      ]
     },
     "execution_count": 76,
     "metadata": {},
     "output_type": "execute_result"
    }
   ],
   "source": [
    "len(items)"
   ]
  },
  {
   "cell_type": "code",
   "execution_count": 77,
   "id": "bdb3955f",
   "metadata": {},
   "outputs": [
    {
     "data": {
      "text/plain": [
       "319"
      ]
     },
     "execution_count": 77,
     "metadata": {},
     "output_type": "execute_result"
    }
   ],
   "source": [
    "sum(items)"
   ]
  },
  {
   "cell_type": "code",
   "execution_count": 78,
   "id": "5b5f3f53",
   "metadata": {},
   "outputs": [
    {
     "data": {
      "text/plain": [
       "15"
      ]
     },
     "execution_count": 78,
     "metadata": {},
     "output_type": "execute_result"
    }
   ],
   "source": [
    "sum([1,2,3,4,5])"
   ]
  },
  {
   "cell_type": "code",
   "execution_count": 79,
   "id": "3ad190f8",
   "metadata": {},
   "outputs": [
    {
     "data": {
      "text/plain": [
       "36"
      ]
     },
     "execution_count": 79,
     "metadata": {},
     "output_type": "execute_result"
    }
   ],
   "source": [
    "sum([1,2,3,4,5,6,7,8])"
   ]
  },
  {
   "cell_type": "code",
   "execution_count": 80,
   "id": "36eafa49",
   "metadata": {},
   "outputs": [
    {
     "data": {
      "text/plain": [
       "str"
      ]
     },
     "execution_count": 80,
     "metadata": {},
     "output_type": "execute_result"
    }
   ],
   "source": [
    "type('15')"
   ]
  },
  {
   "cell_type": "code",
   "execution_count": 81,
   "id": "0e7246e9",
   "metadata": {},
   "outputs": [
    {
     "data": {
      "text/plain": [
       "'1515'"
      ]
     },
     "execution_count": 81,
     "metadata": {},
     "output_type": "execute_result"
    }
   ],
   "source": [
    "'15'+'15'"
   ]
  },
  {
   "cell_type": "code",
   "execution_count": 82,
   "id": "52fdfb49",
   "metadata": {},
   "outputs": [
    {
     "data": {
      "text/plain": [
       "93"
      ]
     },
     "execution_count": 82,
     "metadata": {},
     "output_type": "execute_result"
    }
   ],
   "source": [
    "int('78')+15"
   ]
  },
  {
   "cell_type": "code",
   "execution_count": 83,
   "id": "4ea4cb06",
   "metadata": {},
   "outputs": [
    {
     "ename": "ValueError",
     "evalue": "invalid literal for int() with base 10: 'lets play'",
     "output_type": "error",
     "traceback": [
      "\u001b[1;31m---------------------------------------------------------------------------\u001b[0m",
      "\u001b[1;31mValueError\u001b[0m                                Traceback (most recent call last)",
      "\u001b[1;32m~\\AppData\\Local\\Temp/ipykernel_14736/2292060048.py\u001b[0m in \u001b[0;36m<module>\u001b[1;34m\u001b[0m\n\u001b[1;32m----> 1\u001b[1;33m \u001b[0mint\u001b[0m\u001b[1;33m(\u001b[0m\u001b[1;34m'lets play'\u001b[0m\u001b[1;33m)\u001b[0m\u001b[1;33m+\u001b[0m\u001b[1;36m15\u001b[0m\u001b[1;33m\u001b[0m\u001b[1;33m\u001b[0m\u001b[0m\n\u001b[0m",
      "\u001b[1;31mValueError\u001b[0m: invalid literal for int() with base 10: 'lets play'"
     ]
    }
   ],
   "source": [
    "int('lets play')+15"
   ]
  },
  {
   "cell_type": "code",
   "execution_count": 84,
   "id": "3b136ef2",
   "metadata": {},
   "outputs": [
    {
     "ename": "TypeError",
     "evalue": "can only concatenate str (not \"int\") to str",
     "output_type": "error",
     "traceback": [
      "\u001b[1;31m---------------------------------------------------------------------------\u001b[0m",
      "\u001b[1;31mTypeError\u001b[0m                                 Traceback (most recent call last)",
      "\u001b[1;32m~\\AppData\\Local\\Temp/ipykernel_14736/1240151406.py\u001b[0m in \u001b[0;36m<module>\u001b[1;34m\u001b[0m\n\u001b[1;32m----> 1\u001b[1;33m \u001b[1;34m'lets play'\u001b[0m\u001b[1;33m+\u001b[0m\u001b[1;36m18\u001b[0m\u001b[1;33m\u001b[0m\u001b[1;33m\u001b[0m\u001b[0m\n\u001b[0m",
      "\u001b[1;31mTypeError\u001b[0m: can only concatenate str (not \"int\") to str"
     ]
    }
   ],
   "source": [
    "'lets play'+18"
   ]
  },
  {
   "cell_type": "code",
   "execution_count": 85,
   "id": "72962e38",
   "metadata": {},
   "outputs": [],
   "source": [
    "a = 45"
   ]
  },
  {
   "cell_type": "code",
   "execution_count": 86,
   "id": "064cabb8",
   "metadata": {},
   "outputs": [
    {
     "data": {
      "text/plain": [
       "int"
      ]
     },
     "execution_count": 86,
     "metadata": {},
     "output_type": "execute_result"
    }
   ],
   "source": [
    "type(a)"
   ]
  },
  {
   "cell_type": "code",
   "execution_count": 87,
   "id": "f1c507dc",
   "metadata": {},
   "outputs": [
    {
     "data": {
      "text/plain": [
       "48"
      ]
     },
     "execution_count": 87,
     "metadata": {},
     "output_type": "execute_result"
    }
   ],
   "source": [
    "a+3"
   ]
  },
  {
   "cell_type": "code",
   "execution_count": 88,
   "id": "eaaec815",
   "metadata": {},
   "outputs": [
    {
     "data": {
      "text/plain": [
       "'454'"
      ]
     },
     "execution_count": 88,
     "metadata": {},
     "output_type": "execute_result"
    }
   ],
   "source": [
    "str(a)+'4'"
   ]
  },
  {
   "cell_type": "code",
   "execution_count": 89,
   "id": "f0970bee",
   "metadata": {},
   "outputs": [
    {
     "data": {
      "text/plain": [
       "'546'"
      ]
     },
     "execution_count": 89,
     "metadata": {},
     "output_type": "execute_result"
    }
   ],
   "source": [
    "'54'+'6'"
   ]
  },
  {
   "cell_type": "code",
   "execution_count": 1,
   "id": "38e17195",
   "metadata": {},
   "outputs": [
    {
     "name": "stdout",
     "output_type": "stream",
     "text": [
      "Lets Do Coding\n"
     ]
    }
   ],
   "source": [
    "print (\"Lets Do Coding\")"
   ]
  },
  {
   "cell_type": "code",
   "execution_count": 2,
   "id": "9aaa0af2",
   "metadata": {},
   "outputs": [],
   "source": [
    "name = \"Lets Do coding\""
   ]
  },
  {
   "cell_type": "code",
   "execution_count": 3,
   "id": "3baf5eca",
   "metadata": {},
   "outputs": [
    {
     "name": "stdout",
     "output_type": "stream",
     "text": [
      "Lets Do coding\n"
     ]
    }
   ],
   "source": [
    "print (name)"
   ]
  },
  {
   "cell_type": "code",
   "execution_count": 6,
   "id": "14bea72d",
   "metadata": {},
   "outputs": [
    {
     "name": "stdout",
     "output_type": "stream",
     "text": [
      "Hey Lets Do coding\n"
     ]
    }
   ],
   "source": [
    "print ('Hey ' +name)"
   ]
  },
  {
   "cell_type": "code",
   "execution_count": 10,
   "id": "9eea1c7c",
   "metadata": {},
   "outputs": [],
   "source": [
    "age = 2"
   ]
  },
  {
   "cell_type": "code",
   "execution_count": 11,
   "id": "007f2135",
   "metadata": {},
   "outputs": [],
   "source": [
    "country = \"India\""
   ]
  },
  {
   "cell_type": "code",
   "execution_count": 12,
   "id": "780407db",
   "metadata": {},
   "outputs": [
    {
     "name": "stdout",
     "output_type": "stream",
     "text": [
      "Lets Do coding 2 India\n"
     ]
    }
   ],
   "source": [
    "print (name,age,country)"
   ]
  },
  {
   "cell_type": "code",
   "execution_count": 13,
   "id": "00ef43e8",
   "metadata": {},
   "outputs": [
    {
     "name": "stdout",
     "output_type": "stream",
     "text": [
      "My name is : Lets Do coding aged : 2 lives in : India\n"
     ]
    }
   ],
   "source": [
    "print (\"My name is :\",name ,'aged :',age,'lives in :',country)"
   ]
  },
  {
   "cell_type": "code",
   "execution_count": 17,
   "id": "ca8855d1",
   "metadata": {},
   "outputs": [
    {
     "name": "stdout",
     "output_type": "stream",
     "text": [
      "my name is : Lets Do coding and i am on 2 old and i stays in : India\n"
     ]
    }
   ],
   "source": [
    "print (\"my name is : %s and i am on %s old and i stays in : %s\"%\\\n",
    "      (name,age,country))"
   ]
  },
  {
   "cell_type": "code",
   "execution_count": 18,
   "id": "49e59ace",
   "metadata": {},
   "outputs": [],
   "source": [
    "marks = 75.44"
   ]
  },
  {
   "cell_type": "code",
   "execution_count": 19,
   "id": "985d51b6",
   "metadata": {},
   "outputs": [
    {
     "name": "stdout",
     "output_type": "stream",
     "text": [
      "my name is : Lets Do coding and i am on 2 old and i stays in : India and i got 75.44\n"
     ]
    }
   ],
   "source": [
    "print (\"my name is : %s and i am on %s old and i stays in : %s and i got %s\"\\\n",
    "       %(name,age,country,marks))"
   ]
  },
  {
   "cell_type": "code",
   "execution_count": 23,
   "id": "a3d5e668",
   "metadata": {},
   "outputs": [
    {
     "name": "stdout",
     "output_type": "stream",
     "text": [
      "my name is : Lets Do coding and i am on 2 old and i stays in : India and i got 75.44\n"
     ]
    }
   ],
   "source": [
    "print ('my name is : {} and i am on {} old and i stays in : {} and i got {}'\n",
    "       .format(name ,age ,country ,marks ))"
   ]
  },
  {
   "cell_type": "code",
   "execution_count": 24,
   "id": "c5da4ae3",
   "metadata": {},
   "outputs": [
    {
     "ename": "SyntaxError",
     "evalue": "EOL while scanning string literal (Temp/ipykernel_13596/934756887.py, line 1)",
     "output_type": "error",
     "traceback": [
      "\u001b[1;36m  File \u001b[1;32m\"C:\\Users\\mahes\\AppData\\Local\\Temp/ipykernel_13596/934756887.py\"\u001b[1;36m, line \u001b[1;32m1\u001b[0m\n\u001b[1;33m    print ('my name is : {} and i am on {} old and i stays in : {} \\\u001b[0m\n\u001b[1;37m                                                                     ^\u001b[0m\n\u001b[1;31mSyntaxError\u001b[0m\u001b[1;31m:\u001b[0m EOL while scanning string literal\n"
     ]
    }
   ],
   "source": [
    "print ('my name is : {} and i am on {} old and i stays in : {} \\ \n",
    "       {}'.format(name ,age ,country ,marks ))"
   ]
  },
  {
   "cell_type": "code",
   "execution_count": 28,
   "id": "31a60d60",
   "metadata": {},
   "outputs": [
    {
     "name": "stdout",
     "output_type": "stream",
     "text": [
      "my name is : Lets Do coding and i am 2 old and i stays in : India and i got 75.44\n"
     ]
    }
   ],
   "source": [
    "print ('my name is : {0} and i am {1} old and i stays in : {2} and i got {3}'\n",
    "       .format(name ,age ,country ,marks ))"
   ]
  },
  {
   "cell_type": "code",
   "execution_count": 29,
   "id": "605e2a17",
   "metadata": {},
   "outputs": [
    {
     "name": "stdout",
     "output_type": "stream",
     "text": [
      "my name is : 75.44 and i am on Lets Do coding old and i stays in : 2 and i got 75.44\n"
     ]
    }
   ],
   "source": [
    "print ('my name is : {3} and i am on {0} old and i stays in : {1} and i got {3}'\n",
    "       .format(name ,age ,country ,marks ))"
   ]
  },
  {
   "cell_type": "code",
   "execution_count": 30,
   "id": "0706d72d",
   "metadata": {},
   "outputs": [],
   "source": [
    "# f string"
   ]
  },
  {
   "cell_type": "code",
   "execution_count": 31,
   "id": "8e573759",
   "metadata": {},
   "outputs": [
    {
     "name": "stdout",
     "output_type": "stream",
     "text": [
      "\n"
     ]
    }
   ],
   "source": [
    "print (f'')"
   ]
  },
  {
   "cell_type": "code",
   "execution_count": 32,
   "id": "039a60ec",
   "metadata": {},
   "outputs": [
    {
     "name": "stdout",
     "output_type": "stream",
     "text": [
      "\n"
     ]
    }
   ],
   "source": [
    "print (f\"\")"
   ]
  },
  {
   "cell_type": "code",
   "execution_count": 37,
   "id": "762a4994",
   "metadata": {},
   "outputs": [
    {
     "name": "stdout",
     "output_type": "stream",
     "text": [
      "my name is : Lets Do coding and i am 2 old and i stays in : India and i got 75.44\n"
     ]
    }
   ],
   "source": [
    "print (f'my name is : {name} and i am {age} old and i stays in : {country} and i got {marks}')"
   ]
  },
  {
   "cell_type": "code",
   "execution_count": 38,
   "id": "f93d3057",
   "metadata": {},
   "outputs": [
    {
     "name": "stdout",
     "output_type": "stream",
     "text": [
      "my name is : Lets Do Coding and i am 20 old and i stays in : India and i got 75.44\n"
     ]
    }
   ],
   "source": [
    "print (f'my name is : {\"Lets Do Coding\"} and i am {\"20\"} old and i stays in : {\"India\"} and i got {\"75.44\"}')"
   ]
  },
  {
   "cell_type": "code",
   "execution_count": 39,
   "id": "2fa5bf98",
   "metadata": {},
   "outputs": [
    {
     "name": "stdout",
     "output_type": "stream",
     "text": [
      "2+2\n"
     ]
    }
   ],
   "source": [
    "print (f\"2+2\")"
   ]
  },
  {
   "cell_type": "code",
   "execution_count": 40,
   "id": "bad0f685",
   "metadata": {},
   "outputs": [
    {
     "name": "stdout",
     "output_type": "stream",
     "text": [
      "4\n"
     ]
    }
   ],
   "source": [
    "print (f\"{2+2}\")"
   ]
  },
  {
   "cell_type": "code",
   "execution_count": 41,
   "id": "089e415d",
   "metadata": {},
   "outputs": [
    {
     "name": "stdout",
     "output_type": "stream",
     "text": [
      "-4\n"
     ]
    }
   ],
   "source": [
    "print (f\"{2-6}\")"
   ]
  },
  {
   "cell_type": "code",
   "execution_count": 42,
   "id": "04f60ca1",
   "metadata": {},
   "outputs": [
    {
     "name": "stdout",
     "output_type": "stream",
     "text": [
      "1.4444444444444444\n"
     ]
    }
   ],
   "source": [
    "print(f\"{65/45}\")"
   ]
  },
  {
   "cell_type": "code",
   "execution_count": 43,
   "id": "66ab7f98",
   "metadata": {},
   "outputs": [
    {
     "name": "stdout",
     "output_type": "stream",
     "text": [
      "10\n"
     ]
    }
   ],
   "source": [
    "print(f\"{56%23}\")"
   ]
  },
  {
   "cell_type": "code",
   "execution_count": 45,
   "id": "27cfdcbd",
   "metadata": {},
   "outputs": [
    {
     "name": "stdout",
     "output_type": "stream",
     "text": [
      "Programming language : python\n"
     ]
    }
   ],
   "source": [
    "print (f\"Programming language : {'python'}\")"
   ]
  },
  {
   "cell_type": "code",
   "execution_count": 47,
   "id": "05d5f8b9",
   "metadata": {},
   "outputs": [
    {
     "data": {
      "text/plain": [
       "'\\n\\n'"
      ]
     },
     "execution_count": 47,
     "metadata": {},
     "output_type": "execute_result"
    }
   ],
   "source": [
    "'''\n",
    "\n",
    "'''"
   ]
  },
  {
   "cell_type": "code",
   "execution_count": 49,
   "id": "15e146e6",
   "metadata": {},
   "outputs": [
    {
     "data": {
      "text/plain": [
       "'\\n\\n\\n'"
      ]
     },
     "execution_count": 49,
     "metadata": {},
     "output_type": "execute_result"
    }
   ],
   "source": [
    "\"\"\"\n",
    "\n",
    "\n",
    "\"\"\""
   ]
  },
  {
   "cell_type": "code",
   "execution_count": 53,
   "id": "7f8866b0",
   "metadata": {},
   "outputs": [
    {
     "name": "stdout",
     "output_type": "stream",
     "text": [
      "hello\n"
     ]
    }
   ],
   "source": [
    "print (\"\"\"hello\"\"\")"
   ]
  },
  {
   "cell_type": "code",
   "execution_count": 52,
   "id": "fafa8d3e",
   "metadata": {},
   "outputs": [
    {
     "name": "stdout",
     "output_type": "stream",
     "text": [
      "5\n"
     ]
    }
   ],
   "source": [
    "print(f'''{3+2}''')"
   ]
  },
  {
   "cell_type": "code",
   "execution_count": 54,
   "id": "3e9bbe5c",
   "metadata": {},
   "outputs": [],
   "source": [
    "# list"
   ]
  },
  {
   "cell_type": "code",
   "execution_count": 55,
   "id": "1c9602cd",
   "metadata": {},
   "outputs": [],
   "source": [
    "total_items = list()"
   ]
  },
  {
   "cell_type": "code",
   "execution_count": 56,
   "id": "c8691665",
   "metadata": {},
   "outputs": [],
   "source": [
    "total_items.append(90)"
   ]
  },
  {
   "cell_type": "code",
   "execution_count": 57,
   "id": "431c4614",
   "metadata": {},
   "outputs": [],
   "source": [
    "total_items.append(55.4)"
   ]
  },
  {
   "cell_type": "code",
   "execution_count": 58,
   "id": "ed99c1d1",
   "metadata": {},
   "outputs": [],
   "source": [
    "total_items.append('lets do coding')"
   ]
  },
  {
   "cell_type": "code",
   "execution_count": 59,
   "id": "605a3941",
   "metadata": {},
   "outputs": [],
   "source": [
    "total_items.append([1,2,3,4,5,6])"
   ]
  },
  {
   "cell_type": "code",
   "execution_count": 60,
   "id": "f041d9eb",
   "metadata": {},
   "outputs": [
    {
     "data": {
      "text/plain": [
       "[90, 55.4, 'lets do coding', [1, 2, 3, 4, 5, 6]]"
      ]
     },
     "execution_count": 60,
     "metadata": {},
     "output_type": "execute_result"
    }
   ],
   "source": [
    "total_items"
   ]
  },
  {
   "cell_type": "code",
   "execution_count": 61,
   "id": "c741a150",
   "metadata": {},
   "outputs": [
    {
     "data": {
      "text/plain": [
       "2"
      ]
     },
     "execution_count": 61,
     "metadata": {},
     "output_type": "execute_result"
    }
   ],
   "source": [
    "min ([6,5,4,3,2])"
   ]
  },
  {
   "cell_type": "code",
   "execution_count": 62,
   "id": "77545493",
   "metadata": {},
   "outputs": [
    {
     "data": {
      "text/plain": [
       "8"
      ]
     },
     "execution_count": 62,
     "metadata": {},
     "output_type": "execute_result"
    }
   ],
   "source": [
    "max([7,8,7,5,2])"
   ]
  },
  {
   "cell_type": "code",
   "execution_count": 63,
   "id": "32967738",
   "metadata": {},
   "outputs": [
    {
     "data": {
      "text/plain": [
       "22"
      ]
     },
     "execution_count": 63,
     "metadata": {},
     "output_type": "execute_result"
    }
   ],
   "source": [
    "sum([5,4,6,7])"
   ]
  },
  {
   "cell_type": "code",
   "execution_count": 64,
   "id": "4d1abfe2",
   "metadata": {},
   "outputs": [],
   "source": [
    "# for loop"
   ]
  },
  {
   "cell_type": "code",
   "execution_count": 65,
   "id": "038249ad",
   "metadata": {},
   "outputs": [
    {
     "name": "stdout",
     "output_type": "stream",
     "text": [
      "90\n",
      "55.4\n",
      "lets do coding\n",
      "[1, 2, 3, 4, 5, 6]\n"
     ]
    }
   ],
   "source": [
    "for i in total_items:\n",
    "    print(i)"
   ]
  },
  {
   "cell_type": "code",
   "execution_count": 66,
   "id": "65fe2f77",
   "metadata": {},
   "outputs": [
    {
     "name": "stdout",
     "output_type": "stream",
     "text": [
      "90 0\n",
      "55.4 1\n",
      "lets do coding 2\n",
      "[1, 2, 3, 4, 5, 6] 3\n"
     ]
    }
   ],
   "source": [
    "for i in total_items:\n",
    "    print(i,total_items.index(i))"
   ]
  },
  {
   "cell_type": "code",
   "execution_count": 70,
   "id": "c54bd43b",
   "metadata": {},
   "outputs": [
    {
     "name": "stdout",
     "output_type": "stream",
     "text": [
      "value is :90,index is :0\n",
      "value is :55.4,index is :1\n",
      "value is :lets do coding,index is :2\n",
      "value is :[1, 2, 3, 4, 5, 6],index is :3\n"
     ]
    }
   ],
   "source": [
    "for i in total_items:\n",
    "    print(f\"value is :{i},index is :{total_items.index(i)}\")"
   ]
  },
  {
   "cell_type": "code",
   "execution_count": 71,
   "id": "561681ba",
   "metadata": {},
   "outputs": [
    {
     "data": {
      "text/plain": [
       "4"
      ]
     },
     "execution_count": 71,
     "metadata": {},
     "output_type": "execute_result"
    }
   ],
   "source": [
    "len(total_items)"
   ]
  },
  {
   "cell_type": "code",
   "execution_count": 72,
   "id": "404a2edb",
   "metadata": {},
   "outputs": [
    {
     "name": "stdout",
     "output_type": "stream",
     "text": [
      "0\n",
      "1\n",
      "2\n",
      "3\n"
     ]
    }
   ],
   "source": [
    "for i in range(len(total_items)):\n",
    "    print(i)"
   ]
  },
  {
   "cell_type": "code",
   "execution_count": 73,
   "id": "0dca2d9f",
   "metadata": {},
   "outputs": [
    {
     "name": "stdout",
     "output_type": "stream",
     "text": [
      "value is :90,index is :0\n",
      "value is :55.4,index is :1\n",
      "value is :lets do coding,index is :2\n",
      "value is :[1, 2, 3, 4, 5, 6],index is :3\n"
     ]
    }
   ],
   "source": [
    "for i in range(len(total_items)):\n",
    "    print(f\"value is :{total_items[i]},index is :{i}\")"
   ]
  },
  {
   "cell_type": "code",
   "execution_count": 74,
   "id": "c493d740",
   "metadata": {},
   "outputs": [
    {
     "data": {
      "text/plain": [
       "-4.0"
      ]
     },
     "execution_count": 74,
     "metadata": {},
     "output_type": "execute_result"
    }
   ],
   "source": [
    "-16/4"
   ]
  },
  {
   "cell_type": "code",
   "execution_count": 75,
   "id": "4addf23c",
   "metadata": {},
   "outputs": [
    {
     "data": {
      "text/plain": [
       "-4"
      ]
     },
     "execution_count": 75,
     "metadata": {},
     "output_type": "execute_result"
    }
   ],
   "source": [
    "-16//4"
   ]
  },
  {
   "cell_type": "code",
   "execution_count": 76,
   "id": "da5fff6f",
   "metadata": {},
   "outputs": [
    {
     "data": {
      "text/plain": [
       "4"
      ]
     },
     "execution_count": 76,
     "metadata": {},
     "output_type": "execute_result"
    }
   ],
   "source": [
    "16//4"
   ]
  },
  {
   "cell_type": "code",
   "execution_count": 77,
   "id": "a46bf0c9",
   "metadata": {},
   "outputs": [
    {
     "data": {
      "text/plain": [
       "4.0"
      ]
     },
     "execution_count": 77,
     "metadata": {},
     "output_type": "execute_result"
    }
   ],
   "source": [
    "16/4"
   ]
  },
  {
   "cell_type": "code",
   "execution_count": 78,
   "id": "cf1ee21f",
   "metadata": {},
   "outputs": [],
   "source": [
    "# tuple"
   ]
  },
  {
   "cell_type": "code",
   "execution_count": 79,
   "id": "ab882c73",
   "metadata": {},
   "outputs": [],
   "source": [
    "tuple_a = tuple()"
   ]
  },
  {
   "cell_type": "code",
   "execution_count": 80,
   "id": "89779a29",
   "metadata": {},
   "outputs": [
    {
     "data": {
      "text/plain": [
       "tuple"
      ]
     },
     "execution_count": 80,
     "metadata": {},
     "output_type": "execute_result"
    }
   ],
   "source": [
    "type(tuple_a)"
   ]
  },
  {
   "cell_type": "code",
   "execution_count": 81,
   "id": "f359f604",
   "metadata": {},
   "outputs": [],
   "source": [
    "tuple_b = ()"
   ]
  },
  {
   "cell_type": "code",
   "execution_count": 82,
   "id": "97367c4c",
   "metadata": {},
   "outputs": [
    {
     "data": {
      "text/plain": [
       "tuple"
      ]
     },
     "execution_count": 82,
     "metadata": {},
     "output_type": "execute_result"
    }
   ],
   "source": [
    "type(tuple_b)"
   ]
  },
  {
   "cell_type": "code",
   "execution_count": 83,
   "id": "7735a5be",
   "metadata": {},
   "outputs": [
    {
     "data": {
      "text/plain": [
       "()"
      ]
     },
     "execution_count": 83,
     "metadata": {},
     "output_type": "execute_result"
    }
   ],
   "source": [
    "tuple_b"
   ]
  },
  {
   "cell_type": "code",
   "execution_count": 84,
   "id": "bbcac6a7",
   "metadata": {},
   "outputs": [
    {
     "data": {
      "text/plain": [
       "0"
      ]
     },
     "execution_count": 84,
     "metadata": {},
     "output_type": "execute_result"
    }
   ],
   "source": [
    "tuple_b.count(35)"
   ]
  },
  {
   "cell_type": "code",
   "execution_count": 85,
   "id": "241b7485",
   "metadata": {},
   "outputs": [
    {
     "data": {
      "text/plain": [
       "0"
      ]
     },
     "execution_count": 85,
     "metadata": {},
     "output_type": "execute_result"
    }
   ],
   "source": [
    "len(tuple_b)"
   ]
  },
  {
   "cell_type": "code",
   "execution_count": 89,
   "id": "d630d9a1",
   "metadata": {},
   "outputs": [],
   "source": [
    "tuple_b = (1,2,3,4,5,6,45,8,9)"
   ]
  },
  {
   "cell_type": "code",
   "execution_count": 90,
   "id": "dfebdbf1",
   "metadata": {},
   "outputs": [
    {
     "data": {
      "text/plain": [
       "6"
      ]
     },
     "execution_count": 90,
     "metadata": {},
     "output_type": "execute_result"
    }
   ],
   "source": [
    "tuple_b.index(45)"
   ]
  },
  {
   "cell_type": "code",
   "execution_count": 91,
   "id": "7a50c5e4",
   "metadata": {},
   "outputs": [
    {
     "data": {
      "text/plain": [
       "0"
      ]
     },
     "execution_count": 91,
     "metadata": {},
     "output_type": "execute_result"
    }
   ],
   "source": [
    "tuple_b.count(486)"
   ]
  },
  {
   "cell_type": "code",
   "execution_count": 92,
   "id": "aabab414",
   "metadata": {},
   "outputs": [
    {
     "data": {
      "text/plain": [
       "9"
      ]
     },
     "execution_count": 92,
     "metadata": {},
     "output_type": "execute_result"
    }
   ],
   "source": [
    "len(tuple_b)"
   ]
  },
  {
   "cell_type": "code",
   "execution_count": 93,
   "id": "ea1786f4",
   "metadata": {},
   "outputs": [
    {
     "data": {
      "text/plain": [
       "1"
      ]
     },
     "execution_count": 93,
     "metadata": {},
     "output_type": "execute_result"
    }
   ],
   "source": [
    "min(tuple_b)"
   ]
  },
  {
   "cell_type": "code",
   "execution_count": 94,
   "id": "2efe4d45",
   "metadata": {},
   "outputs": [
    {
     "data": {
      "text/plain": [
       "83"
      ]
     },
     "execution_count": 94,
     "metadata": {},
     "output_type": "execute_result"
    }
   ],
   "source": [
    "sum(tuple_b)"
   ]
  },
  {
   "cell_type": "code",
   "execution_count": 95,
   "id": "02d78d44",
   "metadata": {},
   "outputs": [
    {
     "data": {
      "text/plain": [
       "45"
      ]
     },
     "execution_count": 95,
     "metadata": {},
     "output_type": "execute_result"
    }
   ],
   "source": [
    "max(tuple_b)"
   ]
  },
  {
   "cell_type": "code",
   "execution_count": 96,
   "id": "290fd20d",
   "metadata": {},
   "outputs": [
    {
     "data": {
      "text/plain": [
       "(1, 2, 3, 4, 5, 6, 45, 8, 9)"
      ]
     },
     "execution_count": 96,
     "metadata": {},
     "output_type": "execute_result"
    }
   ],
   "source": [
    "tuple_b"
   ]
  },
  {
   "cell_type": "code",
   "execution_count": 97,
   "id": "97894edf",
   "metadata": {},
   "outputs": [
    {
     "data": {
      "text/plain": [
       "'a'"
      ]
     },
     "execution_count": 97,
     "metadata": {},
     "output_type": "execute_result"
    }
   ],
   "source": [
    "min(['a','b'])"
   ]
  },
  {
   "cell_type": "code",
   "execution_count": 98,
   "id": "956cc8bc",
   "metadata": {},
   "outputs": [
    {
     "data": {
      "text/plain": [
       "'r'"
      ]
     },
     "execution_count": 98,
     "metadata": {},
     "output_type": "execute_result"
    }
   ],
   "source": [
    "max(['a','q','r'])"
   ]
  },
  {
   "cell_type": "code",
   "execution_count": 99,
   "id": "338f85fa",
   "metadata": {},
   "outputs": [],
   "source": [
    "tuple_str = ('lets','play',3,5.6,[],True)"
   ]
  },
  {
   "cell_type": "code",
   "execution_count": 100,
   "id": "8fb3f2f1",
   "metadata": {},
   "outputs": [
    {
     "data": {
      "text/plain": [
       "'play'"
      ]
     },
     "execution_count": 100,
     "metadata": {},
     "output_type": "execute_result"
    }
   ],
   "source": [
    "tuple_str[1]"
   ]
  },
  {
   "cell_type": "code",
   "execution_count": 101,
   "id": "2f920873",
   "metadata": {},
   "outputs": [],
   "source": [
    "# dict"
   ]
  },
  {
   "cell_type": "code",
   "execution_count": 102,
   "id": "6f7f8462",
   "metadata": {},
   "outputs": [
    {
     "data": {
      "text/plain": [
       "{'name': 'lets do coding', 'Age': 20}"
      ]
     },
     "execution_count": 102,
     "metadata": {},
     "output_type": "execute_result"
    }
   ],
   "source": [
    "{\n",
    "    'name':'lets do coding',\n",
    "    'Age':20,\n",
    "}"
   ]
  },
  {
   "cell_type": "code",
   "execution_count": 103,
   "id": "89111c24",
   "metadata": {},
   "outputs": [],
   "source": [
    "information = dict()"
   ]
  },
  {
   "cell_type": "code",
   "execution_count": 104,
   "id": "045066e0",
   "metadata": {},
   "outputs": [],
   "source": [
    "information = {}"
   ]
  },
  {
   "cell_type": "code",
   "execution_count": 105,
   "id": "814d5cba",
   "metadata": {},
   "outputs": [
    {
     "data": {
      "text/plain": [
       "dict"
      ]
     },
     "execution_count": 105,
     "metadata": {},
     "output_type": "execute_result"
    }
   ],
   "source": [
    "type(information)"
   ]
  },
  {
   "cell_type": "code",
   "execution_count": 106,
   "id": "03fe2ee4",
   "metadata": {},
   "outputs": [
    {
     "data": {
      "text/plain": [
       "{}"
      ]
     },
     "execution_count": 106,
     "metadata": {},
     "output_type": "execute_result"
    }
   ],
   "source": [
    "information"
   ]
  },
  {
   "cell_type": "code",
   "execution_count": 107,
   "id": "0c69c824",
   "metadata": {},
   "outputs": [],
   "source": [
    "information['name']='LETS PLAY'"
   ]
  },
  {
   "cell_type": "code",
   "execution_count": 108,
   "id": "aab7d1bb",
   "metadata": {},
   "outputs": [
    {
     "data": {
      "text/plain": [
       "{'name': 'LETS PLAY'}"
      ]
     },
     "execution_count": 108,
     "metadata": {},
     "output_type": "execute_result"
    }
   ],
   "source": [
    "information"
   ]
  },
  {
   "cell_type": "code",
   "execution_count": 109,
   "id": "363703ae",
   "metadata": {},
   "outputs": [],
   "source": [
    "information['Age']=20"
   ]
  },
  {
   "cell_type": "code",
   "execution_count": 110,
   "id": "87247f0e",
   "metadata": {},
   "outputs": [
    {
     "data": {
      "text/plain": [
       "{'name': 'LETS PLAY', 'Age': 20}"
      ]
     },
     "execution_count": 110,
     "metadata": {},
     "output_type": "execute_result"
    }
   ],
   "source": [
    "information"
   ]
  },
  {
   "cell_type": "code",
   "execution_count": 111,
   "id": "0ce27173",
   "metadata": {},
   "outputs": [],
   "source": [
    "information.update({'Address':'INDIA'})"
   ]
  },
  {
   "cell_type": "code",
   "execution_count": 112,
   "id": "6446d7dc",
   "metadata": {},
   "outputs": [
    {
     "data": {
      "text/plain": [
       "{'name': 'LETS PLAY', 'Age': 20, 'Address': 'INDIA'}"
      ]
     },
     "execution_count": 112,
     "metadata": {},
     "output_type": "execute_result"
    }
   ],
   "source": [
    "information"
   ]
  },
  {
   "cell_type": "code",
   "execution_count": 113,
   "id": "1206f1d4",
   "metadata": {},
   "outputs": [
    {
     "data": {
      "text/plain": [
       "'LETS PLAY'"
      ]
     },
     "execution_count": 113,
     "metadata": {},
     "output_type": "execute_result"
    }
   ],
   "source": [
    "information['name']"
   ]
  },
  {
   "cell_type": "code",
   "execution_count": 114,
   "id": "d35d6c28",
   "metadata": {},
   "outputs": [],
   "source": [
    "information['name'] = 'LETS PLAY -INDIA'"
   ]
  },
  {
   "cell_type": "code",
   "execution_count": 115,
   "id": "dfe61239",
   "metadata": {},
   "outputs": [
    {
     "data": {
      "text/plain": [
       "{'name': 'LETS PLAY -INDIA', 'Age': 20, 'Address': 'INDIA'}"
      ]
     },
     "execution_count": 115,
     "metadata": {},
     "output_type": "execute_result"
    }
   ],
   "source": [
    "information"
   ]
  },
  {
   "cell_type": "code",
   "execution_count": 116,
   "id": "5aa80e2c",
   "metadata": {},
   "outputs": [],
   "source": [
    "information['Address 2'] = 'MUMBAI'"
   ]
  },
  {
   "cell_type": "code",
   "execution_count": 117,
   "id": "fac3c769",
   "metadata": {},
   "outputs": [
    {
     "data": {
      "text/plain": [
       "{'name': 'LETS PLAY -INDIA',\n",
       " 'Age': 20,\n",
       " 'Address': 'INDIA',\n",
       " 'Address 2': 'MUMBAI'}"
      ]
     },
     "execution_count": 117,
     "metadata": {},
     "output_type": "execute_result"
    }
   ],
   "source": [
    "information"
   ]
  },
  {
   "cell_type": "code",
   "execution_count": 118,
   "id": "4dae9abf",
   "metadata": {},
   "outputs": [],
   "source": [
    "a = {1,2,3,4,5}"
   ]
  },
  {
   "cell_type": "code",
   "execution_count": 119,
   "id": "db77565e",
   "metadata": {},
   "outputs": [
    {
     "data": {
      "text/plain": [
       "set"
      ]
     },
     "execution_count": 119,
     "metadata": {},
     "output_type": "execute_result"
    }
   ],
   "source": [
    "type(a)"
   ]
  },
  {
   "cell_type": "code",
   "execution_count": 120,
   "id": "4a9b977c",
   "metadata": {},
   "outputs": [],
   "source": [
    "a = set()"
   ]
  },
  {
   "cell_type": "code",
   "execution_count": 121,
   "id": "f36b6031",
   "metadata": {},
   "outputs": [
    {
     "data": {
      "text/plain": [
       "set"
      ]
     },
     "execution_count": 121,
     "metadata": {},
     "output_type": "execute_result"
    }
   ],
   "source": [
    "type(a)"
   ]
  },
  {
   "cell_type": "code",
   "execution_count": 122,
   "id": "4468290b",
   "metadata": {},
   "outputs": [],
   "source": [
    "a = {}"
   ]
  },
  {
   "cell_type": "code",
   "execution_count": 123,
   "id": "b55e1eb2",
   "metadata": {},
   "outputs": [
    {
     "data": {
      "text/plain": [
       "dict"
      ]
     },
     "execution_count": 123,
     "metadata": {},
     "output_type": "execute_result"
    }
   ],
   "source": [
    "type(a)"
   ]
  },
  {
   "cell_type": "code",
   "execution_count": 125,
   "id": "7c9f5b4d",
   "metadata": {},
   "outputs": [],
   "source": [
    "a = {(1,2,3,4,5,6)}"
   ]
  },
  {
   "cell_type": "code",
   "execution_count": 126,
   "id": "a831ca1e",
   "metadata": {},
   "outputs": [
    {
     "data": {
      "text/plain": [
       "{(1, 2, 3, 4, 5, 6)}"
      ]
     },
     "execution_count": 126,
     "metadata": {},
     "output_type": "execute_result"
    }
   ],
   "source": [
    "a"
   ]
  },
  {
   "cell_type": "code",
   "execution_count": 127,
   "id": "8c3dc5d6",
   "metadata": {},
   "outputs": [],
   "source": [
    "set_a = {1,2,3,4,5,5,5,5,3,2}"
   ]
  },
  {
   "cell_type": "code",
   "execution_count": 128,
   "id": "036e230a",
   "metadata": {},
   "outputs": [
    {
     "data": {
      "text/plain": [
       "{1, 2, 3, 4, 5}"
      ]
     },
     "execution_count": 128,
     "metadata": {},
     "output_type": "execute_result"
    }
   ],
   "source": [
    "set_a"
   ]
  },
  {
   "cell_type": "code",
   "execution_count": 129,
   "id": "305c3de5",
   "metadata": {},
   "outputs": [],
   "source": [
    "set_b = set([1,2,3,4,5,5,5,5,3,2])"
   ]
  },
  {
   "cell_type": "code",
   "execution_count": 130,
   "id": "9a6d8eb7",
   "metadata": {},
   "outputs": [
    {
     "data": {
      "text/plain": [
       "{1, 2, 3, 4, 5}"
      ]
     },
     "execution_count": 130,
     "metadata": {},
     "output_type": "execute_result"
    }
   ],
   "source": [
    "set_b"
   ]
  },
  {
   "cell_type": "code",
   "execution_count": 131,
   "id": "f32181b8",
   "metadata": {},
   "outputs": [],
   "source": [
    "set_c = set()"
   ]
  },
  {
   "cell_type": "code",
   "execution_count": 132,
   "id": "22ff913c",
   "metadata": {},
   "outputs": [],
   "source": [
    "set_c.add(6)"
   ]
  },
  {
   "cell_type": "code",
   "execution_count": 133,
   "id": "f03b2ac2",
   "metadata": {},
   "outputs": [
    {
     "data": {
      "text/plain": [
       "{6}"
      ]
     },
     "execution_count": 133,
     "metadata": {},
     "output_type": "execute_result"
    }
   ],
   "source": [
    "set_c"
   ]
  },
  {
   "cell_type": "code",
   "execution_count": 134,
   "id": "c58c301a",
   "metadata": {},
   "outputs": [],
   "source": [
    "set_d = {}"
   ]
  },
  {
   "cell_type": "code",
   "execution_count": 135,
   "id": "5e5e5f87",
   "metadata": {},
   "outputs": [
    {
     "ename": "AttributeError",
     "evalue": "'dict' object has no attribute 'add'",
     "output_type": "error",
     "traceback": [
      "\u001b[1;31m---------------------------------------------------------------------------\u001b[0m",
      "\u001b[1;31mAttributeError\u001b[0m                            Traceback (most recent call last)",
      "\u001b[1;32m~\\AppData\\Local\\Temp/ipykernel_13596/4072785709.py\u001b[0m in \u001b[0;36m<module>\u001b[1;34m\u001b[0m\n\u001b[1;32m----> 1\u001b[1;33m \u001b[0mset_d\u001b[0m\u001b[1;33m.\u001b[0m\u001b[0madd\u001b[0m\u001b[1;33m\u001b[0m\u001b[1;33m\u001b[0m\u001b[0m\n\u001b[0m",
      "\u001b[1;31mAttributeError\u001b[0m: 'dict' object has no attribute 'add'"
     ]
    }
   ],
   "source": [
    "set_d.add"
   ]
  },
  {
   "cell_type": "code",
   "execution_count": 136,
   "id": "764f341c",
   "metadata": {},
   "outputs": [],
   "source": [
    "dict_a = {}"
   ]
  },
  {
   "cell_type": "code",
   "execution_count": 137,
   "id": "d019d3ee",
   "metadata": {},
   "outputs": [],
   "source": [
    "dict_a['name']='LU'"
   ]
  },
  {
   "cell_type": "code",
   "execution_count": 138,
   "id": "512738e9",
   "metadata": {},
   "outputs": [],
   "source": [
    "dict_a[5]='5'"
   ]
  },
  {
   "cell_type": "code",
   "execution_count": 139,
   "id": "2e199e6e",
   "metadata": {},
   "outputs": [
    {
     "data": {
      "text/plain": [
       "{'name': 'LU', 5: '5'}"
      ]
     },
     "execution_count": 139,
     "metadata": {},
     "output_type": "execute_result"
    }
   ],
   "source": [
    "dict_a"
   ]
  },
  {
   "cell_type": "code",
   "execution_count": 140,
   "id": "95d638f3",
   "metadata": {},
   "outputs": [],
   "source": [
    "dict_b={'name':'LU'}"
   ]
  },
  {
   "cell_type": "code",
   "execution_count": 141,
   "id": "bd5f4cd1",
   "metadata": {},
   "outputs": [
    {
     "data": {
      "text/plain": [
       "{'name': 'LU'}"
      ]
     },
     "execution_count": 141,
     "metadata": {},
     "output_type": "execute_result"
    }
   ],
   "source": [
    "dict_b"
   ]
  },
  {
   "cell_type": "code",
   "execution_count": 142,
   "id": "d9d49c6b",
   "metadata": {},
   "outputs": [],
   "source": [
    "dict_c=dict(name='LUU')"
   ]
  },
  {
   "cell_type": "code",
   "execution_count": 143,
   "id": "1c8bbadd",
   "metadata": {},
   "outputs": [
    {
     "data": {
      "text/plain": [
       "{'name': 'LUU'}"
      ]
     },
     "execution_count": 143,
     "metadata": {},
     "output_type": "execute_result"
    }
   ],
   "source": [
    "dict_c"
   ]
  },
  {
   "cell_type": "code",
   "execution_count": 144,
   "id": "a9603367",
   "metadata": {},
   "outputs": [
    {
     "data": {
      "text/plain": [
       "{'R'}"
      ]
     },
     "execution_count": 144,
     "metadata": {},
     "output_type": "execute_result"
    }
   ],
   "source": [
    "set('RRRRRRRR')"
   ]
  },
  {
   "cell_type": "code",
   "execution_count": 145,
   "id": "f26a3b01",
   "metadata": {},
   "outputs": [
    {
     "data": {
      "text/plain": [
       "{'name': 'LETS PLAY -INDIA',\n",
       " 'Age': 20,\n",
       " 'Address': 'INDIA',\n",
       " 'Address 2': 'MUMBAI'}"
      ]
     },
     "execution_count": 145,
     "metadata": {},
     "output_type": "execute_result"
    }
   ],
   "source": [
    "information"
   ]
  },
  {
   "cell_type": "code",
   "execution_count": 146,
   "id": "d7b96b4e",
   "metadata": {},
   "outputs": [
    {
     "data": {
      "text/plain": [
       "20"
      ]
     },
     "execution_count": 146,
     "metadata": {},
     "output_type": "execute_result"
    }
   ],
   "source": [
    "information['Age']"
   ]
  },
  {
   "cell_type": "code",
   "execution_count": 147,
   "id": "1dc6a39f",
   "metadata": {},
   "outputs": [],
   "source": [
    "information.get('marks')"
   ]
  },
  {
   "cell_type": "code",
   "execution_count": 148,
   "id": "127ab3e3",
   "metadata": {},
   "outputs": [
    {
     "data": {
      "text/plain": [
       "'Does not exist'"
      ]
     },
     "execution_count": 148,
     "metadata": {},
     "output_type": "execute_result"
    }
   ],
   "source": [
    "information.get('marks','Does not exist')"
   ]
  },
  {
   "cell_type": "code",
   "execution_count": 149,
   "id": "32057a66",
   "metadata": {},
   "outputs": [
    {
     "data": {
      "text/plain": [
       "{'name': 'LETS PLAY -INDIA',\n",
       " 'Age': 20,\n",
       " 'Address': 'INDIA',\n",
       " 'Address 2': 'MUMBAI'}"
      ]
     },
     "execution_count": 149,
     "metadata": {},
     "output_type": "execute_result"
    }
   ],
   "source": [
    "information"
   ]
  },
  {
   "cell_type": "code",
   "execution_count": 150,
   "id": "f8a9f90f",
   "metadata": {},
   "outputs": [
    {
     "data": {
      "text/plain": [
       "dict_keys(['name', 'Age', 'Address', 'Address 2'])"
      ]
     },
     "execution_count": 150,
     "metadata": {},
     "output_type": "execute_result"
    }
   ],
   "source": [
    "information.keys()"
   ]
  },
  {
   "cell_type": "code",
   "execution_count": 151,
   "id": "ab703a40",
   "metadata": {},
   "outputs": [
    {
     "data": {
      "text/plain": [
       "dict_values(['LETS PLAY -INDIA', 20, 'INDIA', 'MUMBAI'])"
      ]
     },
     "execution_count": 151,
     "metadata": {},
     "output_type": "execute_result"
    }
   ],
   "source": [
    "information.values()"
   ]
  },
  {
   "cell_type": "code",
   "execution_count": 152,
   "id": "b782fe63",
   "metadata": {},
   "outputs": [
    {
     "data": {
      "text/plain": [
       "dict_items([('name', 'LETS PLAY -INDIA'), ('Age', 20), ('Address', 'INDIA'), ('Address 2', 'MUMBAI')])"
      ]
     },
     "execution_count": 152,
     "metadata": {},
     "output_type": "execute_result"
    }
   ],
   "source": [
    "information.items()"
   ]
  },
  {
   "cell_type": "code",
   "execution_count": 153,
   "id": "39d39112",
   "metadata": {},
   "outputs": [
    {
     "name": "stdout",
     "output_type": "stream",
     "text": [
      "name LETS PLAY -INDIA\n",
      "Age 20\n",
      "Address INDIA\n",
      "Address 2 MUMBAI\n"
     ]
    }
   ],
   "source": [
    "for key ,value in information.items():\n",
    "    print (key,value)"
   ]
  },
  {
   "cell_type": "code",
   "execution_count": 154,
   "id": "0389bbce",
   "metadata": {},
   "outputs": [
    {
     "name": "stdout",
     "output_type": "stream",
     "text": [
      "name\n",
      "Age\n",
      "Address\n",
      "Address 2\n"
     ]
    }
   ],
   "source": [
    "for key in information:\n",
    "    print (key)"
   ]
  },
  {
   "cell_type": "code",
   "execution_count": 156,
   "id": "fe6f716b",
   "metadata": {},
   "outputs": [
    {
     "name": "stdout",
     "output_type": "stream",
     "text": [
      "name\n",
      "Age\n",
      "Address\n",
      "Address 2\n"
     ]
    }
   ],
   "source": [
    "for key in information.keys():\n",
    "    print (key)"
   ]
  },
  {
   "cell_type": "code",
   "execution_count": 157,
   "id": "c50f3590",
   "metadata": {},
   "outputs": [
    {
     "name": "stdout",
     "output_type": "stream",
     "text": [
      "name LETS PLAY -INDIA\n",
      "Age 20\n",
      "Address INDIA\n",
      "Address 2 MUMBAI\n"
     ]
    }
   ],
   "source": [
    "for key in information:\n",
    "    print (key , information[key])"
   ]
  },
  {
   "cell_type": "code",
   "execution_count": 158,
   "id": "b0426fd8",
   "metadata": {},
   "outputs": [],
   "source": [
    "list_a = [1,2,3,4,5,6]"
   ]
  },
  {
   "cell_type": "code",
   "execution_count": 159,
   "id": "ce5241f7",
   "metadata": {},
   "outputs": [
    {
     "data": {
      "text/plain": [
       "[1, 2, 3, 4, 5, 6]"
      ]
     },
     "execution_count": 159,
     "metadata": {},
     "output_type": "execute_result"
    }
   ],
   "source": [
    "list_a"
   ]
  },
  {
   "cell_type": "code",
   "execution_count": 160,
   "id": "2c6d7ecd",
   "metadata": {},
   "outputs": [],
   "source": [
    "list_b = list_a"
   ]
  },
  {
   "cell_type": "code",
   "execution_count": 161,
   "id": "2f015cde",
   "metadata": {},
   "outputs": [
    {
     "data": {
      "text/plain": [
       "[1, 2, 3, 4, 5, 6]"
      ]
     },
     "execution_count": 161,
     "metadata": {},
     "output_type": "execute_result"
    }
   ],
   "source": [
    "list_b"
   ]
  },
  {
   "cell_type": "code",
   "execution_count": 162,
   "id": "2a1d8a07",
   "metadata": {},
   "outputs": [],
   "source": [
    "list_b.append(77)"
   ]
  },
  {
   "cell_type": "code",
   "execution_count": 163,
   "id": "eaddb37a",
   "metadata": {},
   "outputs": [
    {
     "data": {
      "text/plain": [
       "[1, 2, 3, 4, 5, 6, 77]"
      ]
     },
     "execution_count": 163,
     "metadata": {},
     "output_type": "execute_result"
    }
   ],
   "source": [
    "list_b"
   ]
  },
  {
   "cell_type": "code",
   "execution_count": 164,
   "id": "5e77a0b7",
   "metadata": {},
   "outputs": [
    {
     "data": {
      "text/plain": [
       "[1, 2, 3, 4, 5, 6, 77]"
      ]
     },
     "execution_count": 164,
     "metadata": {},
     "output_type": "execute_result"
    }
   ],
   "source": [
    "list_a"
   ]
  },
  {
   "cell_type": "code",
   "execution_count": 166,
   "id": "f6b1ece3",
   "metadata": {},
   "outputs": [],
   "source": [
    "list_a.append(89)"
   ]
  },
  {
   "cell_type": "code",
   "execution_count": 167,
   "id": "51c83234",
   "metadata": {},
   "outputs": [
    {
     "data": {
      "text/plain": [
       "[1, 2, 3, 4, 5, 6, 77, 89]"
      ]
     },
     "execution_count": 167,
     "metadata": {},
     "output_type": "execute_result"
    }
   ],
   "source": [
    "list_a"
   ]
  },
  {
   "cell_type": "code",
   "execution_count": 168,
   "id": "033942fe",
   "metadata": {},
   "outputs": [
    {
     "data": {
      "text/plain": [
       "[1, 2, 3, 4, 5, 6, 77, 89]"
      ]
     },
     "execution_count": 168,
     "metadata": {},
     "output_type": "execute_result"
    }
   ],
   "source": [
    "list_b"
   ]
  },
  {
   "cell_type": "code",
   "execution_count": 169,
   "id": "4070ecd2",
   "metadata": {},
   "outputs": [
    {
     "data": {
      "text/plain": [
       "3024266134720"
      ]
     },
     "execution_count": 169,
     "metadata": {},
     "output_type": "execute_result"
    }
   ],
   "source": [
    "id(list_a)"
   ]
  },
  {
   "cell_type": "code",
   "execution_count": 170,
   "id": "efec2c9b",
   "metadata": {},
   "outputs": [
    {
     "data": {
      "text/plain": [
       "3024266134720"
      ]
     },
     "execution_count": 170,
     "metadata": {},
     "output_type": "execute_result"
    },
    {
     "name": "stderr",
     "output_type": "stream",
     "text": [
      "Exception in callback BaseSelectorEventLoop._read_from_self()\n",
      "handle: <Handle BaseSelectorEventLoop._read_from_self()>\n",
      "Traceback (most recent call last):\n",
      "  File \"C:\\ProgramData\\Anaconda3\\lib\\asyncio\\events.py\", line 80, in _run\n",
      "    self._context.run(self._callback, *self._args)\n",
      "  File \"C:\\ProgramData\\Anaconda3\\lib\\asyncio\\selector_events.py\", line 120, in _read_from_self\n",
      "    data = self._ssock.recv(4096)\n",
      "ConnectionResetError: [WinError 10054] An existing connection was forcibly closed by the remote host\n",
      "Exception in callback BaseSelectorEventLoop._read_from_self()\n",
      "handle: <Handle BaseSelectorEventLoop._read_from_self()>\n",
      "Traceback (most recent call last):\n",
      "  File \"C:\\ProgramData\\Anaconda3\\lib\\asyncio\\events.py\", line 80, in _run\n",
      "    self._context.run(self._callback, *self._args)\n",
      "  File \"C:\\ProgramData\\Anaconda3\\lib\\asyncio\\selector_events.py\", line 120, in _read_from_self\n",
      "    data = self._ssock.recv(4096)\n",
      "ConnectionResetError: [WinError 10054] An existing connection was forcibly closed by the remote host\n"
     ]
    }
   ],
   "source": [
    "id(list_b)"
   ]
  },
  {
   "cell_type": "code",
   "execution_count": null,
   "id": "57fcbad4",
   "metadata": {},
   "outputs": [],
   "source": []
  }
 ],
 "metadata": {
  "kernelspec": {
   "display_name": "Python 3 (ipykernel)",
   "language": "python",
   "name": "python3"
  },
  "language_info": {
   "codemirror_mode": {
    "name": "ipython",
    "version": 3
   },
   "file_extension": ".py",
   "mimetype": "text/x-python",
   "name": "python",
   "nbconvert_exporter": "python",
   "pygments_lexer": "ipython3",
   "version": "3.9.7"
  }
 },
 "nbformat": 4,
 "nbformat_minor": 5
}
